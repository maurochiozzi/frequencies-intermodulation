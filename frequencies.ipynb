{
 "cells": [
  {
   "cell_type": "code",
   "execution_count": 1,
   "id": "buried-depression",
   "metadata": {},
   "outputs": [],
   "source": [
    "import numpy as np\n",
    "from matplotlib import pyplot as plt"
   ]
  },
  {
   "cell_type": "code",
   "execution_count": 53,
   "id": "educational-brick",
   "metadata": {},
   "outputs": [],
   "source": [
    "# lets start the interpolation with at least two frquencies, f_a and f_b, as literature\n",
    "frequencies = [23600, 23800] # Hz\n",
    "\n",
    "# here we set the minimun delta between the frequencies we want. Need to set this value according to our limitations\n",
    "df_min = 100 # Hz\n",
    "\n",
    "# finally, set the step we want to wipe out our possibilties\n",
    "step = 10 # Hz\n",
    "\n",
    "frequencies = list(np.unique(frequencies))"
   ]
  },
  {
   "cell_type": "code",
   "execution_count": 54,
   "id": "amateur-titanium",
   "metadata": {},
   "outputs": [],
   "source": [
    "# we don't need to calculate our harmonics since it gonna be too far from our f_a and f_b,\n",
    "# but it gonna be a good one to see their values, besides being trivial\n",
    "\n",
    "def second_harmonic(f):\n",
    "    return 2 * f\n",
    "\n",
    "def third_harmonic(f):\n",
    "    return 3 * f"
   ]
  },
  {
   "cell_type": "code",
   "execution_count": 55,
   "id": "functioning-friend",
   "metadata": {},
   "outputs": [],
   "source": [
    "# ok, this is where it gets kindly complexy, but intermodulation from second and third order\n",
    "# may be easily found in literature, and must search latter their deductions to understand it better.\n",
    "# however, here we do the implemation of the second and third orded distortion that we can find\n",
    "# between two frequencies\n",
    "\n",
    "# f_2 - f_1\n",
    "# f_1 + f_2\n",
    "def second_order_distortion(frequencies):\n",
    "    distortions = []\n",
    "\n",
    "    for i in range(0, len(frequencies)):\n",
    "        for k in range(i, len(frequencies)):\n",
    "            f_1 = frequencies[i]\n",
    "            f_2 = frequencies[k]\n",
    "\n",
    "            distortions.append(f_2 - f_1)\n",
    "            distortions.append(f_1 + f_2)\n",
    "    \n",
    "    return list(np.unique(distortions))\n",
    "\n",
    "# 2 * f_1 - f_2\n",
    "# 2 * f_2 - f_1\n",
    "# f_1 + f_2 - f_3\n",
    "def third_order_distortion(frequencies):\n",
    "    distortions = []\n",
    "\n",
    "    for i in range(0, len(frequencies)):\n",
    "        for k in range(0, len(frequencies)):\n",
    "            for j in range(0, len(frequencies)):\n",
    "                f_1 = frequencies[i]\n",
    "                f_2 = frequencies[k]\n",
    "                f_3 = frequencies[j]\n",
    "\n",
    "                if i != k and i != j and j != k:\n",
    "                    distortions.append(2 * f_1 - f_2)\n",
    "                    distortions.append(2 * f_2 - f_1)\n",
    "                    distortions.append(f_1 + f_2 - f_3)\n",
    "                \n",
    "    return list(np.unique(distortions))\n",
    "\n",
    "def get_delta(frequencie, frequencies):\n",
    "    pass"
   ]
  },
  {
   "cell_type": "code",
   "execution_count": 56,
   "id": "english-postcard",
   "metadata": {},
   "outputs": [],
   "source": [
    "# since we will not be doing min() function in the begging as described by Pasku,\n",
    "# we need to get the delta values between the current frequencie and the others discovered\n",
    "# frequencis to compare with the minimun delta value\n",
    "def get_delta(frequencie, frequencies):\n",
    "    deltas = [abs(f - frequencie) for f in frequencies]\n",
    "    \n",
    "    return min(deltas)\n",
    "\n",
    "# this function will interate thru values, according to the stabilished step, to find\n",
    "# plausivible values that satisfies second and third constraints. When a valid is found,\n",
    "# this new value is added to the list of frequencies\n",
    "def get_frequencies_set(frequencies, size, max_frequencie):\n",
    "    next_frequencie = max(frequencies) + step\n",
    "    \n",
    "    while len(frequencies) < size and max(frequencies) < max_frequencie:\n",
    "        second_harmonics = [second_harmonic(f) for f in frequencies + [next_frequencie]]\n",
    "        third_harmonics = [third_harmonic(f) for f in frequencies + [next_frequencie]]\n",
    "        second_distortions = second_order_distortion(frequencies + [next_frequencie])\n",
    "        third_distortions = third_order_distortion(frequencies + [next_frequencie])\n",
    "        \n",
    "        avoid_frequencies = second_harmonics + third_harmonics + second_distortions + third_distortions\n",
    "        \n",
    "        if (not next_frequencie in avoid_frequencies) and get_delta(next_frequencie, avoid_frequencies) > df_min:\n",
    "            frequencies = frequencies + [next_frequencie]\n",
    "        \n",
    "        next_frequencie = next_frequencie + step\n",
    "        \n",
    "    return frequencies"
   ]
  },
  {
   "cell_type": "code",
   "execution_count": 57,
   "id": "reverse-leadership",
   "metadata": {},
   "outputs": [],
   "source": [
    "# just a complementar function to get second and third harmonics and distortions\n",
    "# to be used as plot and get a visual interpretation of what we are getting\n",
    "def describe_frequencies(frequencies):\n",
    "    second_harmonics = [second_harmonic(f) for f in frequencies]\n",
    "    third_harmonics = [third_harmonic(f) for f in frequencies]\n",
    "    second_distortions = second_order_distortion(frequencies)\n",
    "    third_distortions = third_order_distortion(frequencies)\n",
    "\n",
    "    return {\n",
    "        \"second_harmonics\":second_harmonics,\n",
    "        \"third_harmonics\":third_harmonics,\n",
    "        \"second_distortions\":second_distortions,\n",
    "        \"third_distortions\":third_distortions,\n",
    "        \"frequencies_set\": frequencies\n",
    "    }"
   ]
  },
  {
   "cell_type": "code",
   "execution_count": 58,
   "id": "coated-hungary",
   "metadata": {},
   "outputs": [],
   "source": [
    "generated_frequencies = get_frequencies_set(frequencies, 10, 26000)"
   ]
  },
  {
   "cell_type": "code",
   "execution_count": 59,
   "id": "broke-brave",
   "metadata": {
    "scrolled": false
   },
   "outputs": [
    {
     "data": {
      "image/png": "[encoded data removed]",
      "text/plain": [
       "<Figure size 432x288 with 1 Axes>"
      ]
     },
     "metadata": {
      "needs_background": "light"
     },
     "output_type": "display_data"
    }
   ],
   "source": [
    "described_freq = describe_frequencies(generated_frequencies)\n",
    "\n",
    "\n",
    "plt.figure()\n",
    "\n",
    "plt.eventplot(described_freq[\"frequencies_set\"], orientation='horizontal', colors='k')\n",
    "# plt.eventplot(described_freq[\"second_harmonics\"], orientation='horizontal', colors='c')\n",
    "# plt.eventplot(described_freq[\"third_harmonics\"], orientation='horizontal', colors='k')\n",
    "# plt.eventplot(described_freq[\"second_distortions\"], orientation='horizontal', linelengths=.66, colors='r')\n",
    "plt.eventplot(described_freq[\"third_distortions\"], orientation='horizontal', linelengths=.33, colors='b')\n",
    "\n",
    "# plt.axis('off')\n",
    "plt.show()"
   ]
  },
  {
   "cell_type": "code",
   "execution_count": 60,
   "id": "personalized-iraqi",
   "metadata": {
    "scrolled": true
   },
   "outputs": [
    {
     "data": {
      "text/plain": [
       "{'second_harmonics': [47200, 47600, 48220, 49460, 50920, 53400],\n",
       " 'third_harmonics': [70800, 71400, 72330, 74190, 76380, 80100],\n",
       " 'second_distortions': [0,\n",
       "  200,\n",
       "  310,\n",
       "  510,\n",
       "  620,\n",
       "  730,\n",
       "  930,\n",
       "  1130,\n",
       "  1240,\n",
       "  1350,\n",
       "  1660,\n",
       "  1860,\n",
       "  1970,\n",
       "  2590,\n",
       "  2900,\n",
       "  3100,\n",
       "  47200,\n",
       "  47400,\n",
       "  47600,\n",
       "  47710,\n",
       "  47910,\n",
       "  48220,\n",
       "  48330,\n",
       "  48530,\n",
       "  48840,\n",
       "  49060,\n",
       "  49260,\n",
       "  49460,\n",
       "  49570,\n",
       "  50190,\n",
       "  50300,\n",
       "  50500,\n",
       "  50810,\n",
       "  50920,\n",
       "  51430,\n",
       "  52160,\n",
       "  53400],\n",
       " 'third_distortions': [20500,\n",
       "  20700,\n",
       "  20900,\n",
       "  21010,\n",
       "  21210,\n",
       "  21520,\n",
       "  21630,\n",
       "  21740,\n",
       "  21830,\n",
       "  21940,\n",
       "  22140,\n",
       "  22250,\n",
       "  22360,\n",
       "  22450,\n",
       "  22470,\n",
       "  22560,\n",
       "  22670,\n",
       "  22760,\n",
       "  22870,\n",
       "  22980,\n",
       "  23070,\n",
       "  23090,\n",
       "  23180,\n",
       "  23290,\n",
       "  23380,\n",
       "  23400,\n",
       "  23490,\n",
       "  23910,\n",
       "  24000,\n",
       "  24220,\n",
       "  24310,\n",
       "  24330,\n",
       "  24420,\n",
       "  24530,\n",
       "  24620,\n",
       "  24840,\n",
       "  24930,\n",
       "  24950,\n",
       "  25040,\n",
       "  25150,\n",
       "  25240,\n",
       "  25260,\n",
       "  25350,\n",
       "  25570,\n",
       "  25660,\n",
       "  25770,\n",
       "  25860,\n",
       "  25970,\n",
       "  26080,\n",
       "  26190,\n",
       "  26390,\n",
       "  26500,\n",
       "  26590,\n",
       "  26810,\n",
       "  26900,\n",
       "  27010,\n",
       "  27120,\n",
       "  27210,\n",
       "  27320,\n",
       "  27430,\n",
       "  27630,\n",
       "  27830,\n",
       "  27940,\n",
       "  28050,\n",
       "  28360,\n",
       "  28560,\n",
       "  28670,\n",
       "  29290,\n",
       "  29600,\n",
       "  29800],\n",
       " 'frequencies_set': [23600, 23800, 24110, 24730, 25460, 26700]}"
      ]
     },
     "execution_count": 60,
     "metadata": {},
     "output_type": "execute_result"
    }
   ],
   "source": [
    "described_freq"
   ]
  },
  {
   "cell_type": "code",
   "execution_count": 61,
   "id": "premier-applicant",
   "metadata": {},
   "outputs": [
    {
     "data": {
      "text/plain": [
       "[23600, 23800, 24110, 24730, 25460, 26700]"
      ]
     },
     "execution_count": 61,
     "metadata": {},
     "output_type": "execute_result"
    }
   ],
   "source": [
    "generated_frequencies"
   ]
  }
 ],
 "metadata": {
  "kernelspec": {
   "display_name": "Python 3",
   "language": "python",
   "name": "python3"
  },
  "language_info": {
   "codemirror_mode": {
    "name": "ipython",
    "version": 3
   },
   "file_extension": ".py",
   "mimetype": "text/x-python",
   "name": "python",
   "nbconvert_exporter": "python",
   "pygments_lexer": "ipython3",
   "version": "3.9.1"
  }
 },
 "nbformat": 4,
 "nbformat_minor": 5
}
